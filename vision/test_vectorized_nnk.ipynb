{
  "nbformat": 4,
  "nbformat_minor": 0,
  "metadata": {
    "colab": {
      "provenance": []
    },
    "kernelspec": {
      "name": "python3",
      "display_name": "Python 3"
    },
    "language_info": {
      "name": "python"
    }
  },
  "cells": [
    {
      "cell_type": "code",
      "source": [
        "!pip install torch"
      ],
      "metadata": {
        "colab": {
          "base_uri": "https://localhost:8080/"
        },
        "id": "R_O4aAIUL5x7",
        "outputId": "54c51d6d-e604-4db5-da7b-7f83d5cdbb4d"
      },
      "execution_count": 121,
      "outputs": [
        {
          "output_type": "stream",
          "name": "stdout",
          "text": [
            "Requirement already satisfied: torch in /usr/local/lib/python3.10/dist-packages (2.0.1+cu118)\n",
            "Requirement already satisfied: filelock in /usr/local/lib/python3.10/dist-packages (from torch) (3.12.2)\n",
            "Requirement already satisfied: typing-extensions in /usr/local/lib/python3.10/dist-packages (from torch) (4.7.1)\n",
            "Requirement already satisfied: sympy in /usr/local/lib/python3.10/dist-packages (from torch) (1.11.1)\n",
            "Requirement already satisfied: networkx in /usr/local/lib/python3.10/dist-packages (from torch) (3.1)\n",
            "Requirement already satisfied: jinja2 in /usr/local/lib/python3.10/dist-packages (from torch) (3.1.2)\n",
            "Requirement already satisfied: triton==2.0.0 in /usr/local/lib/python3.10/dist-packages (from torch) (2.0.0)\n",
            "Requirement already satisfied: cmake in /usr/local/lib/python3.10/dist-packages (from triton==2.0.0->torch) (3.25.2)\n",
            "Requirement already satisfied: lit in /usr/local/lib/python3.10/dist-packages (from triton==2.0.0->torch) (16.0.6)\n",
            "Requirement already satisfied: MarkupSafe>=2.0 in /usr/local/lib/python3.10/dist-packages (from jinja2->torch) (2.1.3)\n",
            "Requirement already satisfied: mpmath>=0.19 in /usr/local/lib/python3.10/dist-packages (from sympy->torch) (1.3.0)\n"
          ]
        }
      ]
    },
    {
      "cell_type": "code",
      "source": [
        "import math\n",
        "import torch\n",
        "from torch import nn\n",
        "import numpy as np\n",
        "\n",
        "def torch_apply_along_axis(function, x, axis: int = 0):\n",
        "    \"\"\"\n",
        "    Torch equivalent of numpy apply along axis. This function is slow and should be avoided\n",
        "    https://discuss.pytorch.org/t/apply-a-function-along-an-axis/130440\n",
        "    \"\"\"\n",
        "    return torch.stack([\n",
        "        function(x_i) for x_i in torch.unbind(x, dim=axis)\n",
        "    ], dim=axis)\n",
        "\n",
        "def input_to_rfs_torch(xw, AB_fun, ab_fun, xis, num_rfs, dim):\n",
        "    ab_coeffs = torch_apply_along_axis(ab_fun, xis, 0)\n",
        "    AB_coeffs = torch_apply_along_axis(AB_fun, xis, 0)\n",
        "    torch.manual_seed(0)\n",
        "    gs = torch.rand(size=(num_rfs, dim))\n",
        "    renorm_gs = (ab_coeffs * gs.t()).t()\n",
        "    dot_products = torch.einsum('ij,j->i', renorm_gs, xw)\n",
        "    squared_xw = torch.sum(xw * xw)\n",
        "    correction_vector = (squared_xw / 2) * ab_coeffs * ab_coeffs\n",
        "    diff_vector = dot_products - correction_vector\n",
        "    return (1.0 / math.sqrt(num_rfs)) * AB_coeffs * torch.exp(diff_vector)\n",
        "\n",
        "def input_to_rfs_torch_vectorized(xw, AB_fun, ab_fun, xis, num_rfs, dim):\n",
        "    ab_coeffs = torch_apply_along_axis(ab_fun, xis, 0)\n",
        "    AB_coeffs = torch_apply_along_axis(AB_fun, xis, 0)\n",
        "    torch.manual_seed(0)\n",
        "    gs = torch.rand(size=(num_rfs, dim))\n",
        "    renorm_gs = (ab_coeffs * gs.t()).t()\n",
        "    dot_products = torch.einsum('ij,jk->ik', xw, renorm_gs.t())\n",
        "    squared_xw = torch.sum(torch.mul(xw, xw), dim=1)\n",
        "    correction_vector = torch.outer(squared_xw / 2, torch.mul(ab_coeffs, ab_coeffs))\n",
        "    diff_vector = dot_products - correction_vector\n",
        "    return (1.0 / math.sqrt(num_rfs)) * AB_coeffs * torch.exp(diff_vector)\n",
        "\n",
        "class mynetwork(nn.Module):\n",
        "    def __init__(self, w):\n",
        "        super().__init__()\n",
        "        self.w = w\n",
        "        self.weights = input_to_rfs_torch(self.w, A_fun, a_fun, xis, num_rfs, dim)\n",
        "        self.weights = nn.Parameter(self.weights)\n",
        "        # self.bias = nn.Parameter(torch.zeros(10))\n",
        "\n",
        "    def forward(self, x):\n",
        "        xb = input_to_rfs_torch(x, A_fun, a_fun, xis, num_rfs, dim)\n",
        "        return xb @ self.weights"
      ],
      "metadata": {
        "id": "DUq1Wlq5MS-9"
      },
      "execution_count": 122,
      "outputs": []
    },
    {
      "cell_type": "code",
      "source": [
        "###################### TEST\n",
        "dim = 5\n",
        "x = torch.Tensor([1.0, 2.0, 3.0, 4.0, 5.0]).float()\n",
        "w = torch.Tensor([5.0, 4.0, 3.0, 2.0, 1.0]).float()\n",
        "\n",
        "bias = torch.Tensor([0.0])\n",
        "groundtruth_value = torch.cos(torch.dot(x, w)+bias)\n",
        "num_rfs = 10000\n",
        "# a_fun= lambda xi: 2.0 * math.pi * 1j * xi\n",
        "# b_fun= lambda x: 1\n",
        "# A_fun= lambda x: np.exp(bias)\n",
        "# B_fun= lambda x: 1\n",
        "a_fun = lambda x: np.sin(x)\n",
        "b_fun = lambda x: np.cos(x)\n",
        "A_fun = lambda x: np.sin(x)\n",
        "B_fun = lambda x: np.cos(x)\n",
        "\n",
        "xis_creator = lambda x: 1.0 / (2.0 * math.pi) * (x > 0.5) - 1.0 / (2.0 * math.pi) * (x < 0.5)\n",
        "random_tosses = torch.rand(num_rfs)\n",
        "xis = xis_creator(random_tosses)"
      ],
      "metadata": {
        "id": "hwrDB4v0Mlje"
      },
      "execution_count": 123,
      "outputs": []
    },
    {
      "cell_type": "code",
      "source": [
        "# test vectorized version\n",
        "x_vec = torch.Tensor([[1.0, 2.0, 3.0, 4.0, 5.0], [5.0, 4.0, 3.0, 2.0, 1.0]]).float()\n",
        "x_rfs_vec = input_to_rfs_torch_vectorized(x_vec, A_fun, a_fun, xis, num_rfs, dim)\n",
        "print('vectorized output: ', x_rfs_vec)\n",
        "x_rfs = input_to_rfs_torch(x, A_fun, a_fun, xis, num_rfs, dim)\n",
        "print('non-vectorized output: ', x_rfs)\n",
        "x_2 = torch.Tensor([5.0, 4.0, 3.0, 2.0, 1.0]).float()\n",
        "x_rfs_2 = input_to_rfs_torch(x_2, A_fun, a_fun, xis, num_rfs, dim)\n",
        "print('non-vectorized output (2nd vector): ', x_rfs_2)"
      ],
      "metadata": {
        "colab": {
          "base_uri": "https://localhost:8080/"
        },
        "id": "6mcBTyiXZ-Em",
        "outputId": "aa9f9519-132a-4d05-a863-d4be7d9f1e63"
      },
      "execution_count": 124,
      "outputs": [
        {
          "output_type": "stream",
          "name": "stdout",
          "text": [
            "vectorized output:  tensor([[ 0.0016,  0.0035,  0.0014,  ..., -0.0001,  0.0026,  0.0016],\n",
            "        [ 0.0022,  0.0035,  0.0015,  ..., -0.0002,  0.0021,  0.0012]])\n",
            "non-vectorized output:  tensor([ 0.0016,  0.0035,  0.0014,  ..., -0.0001,  0.0026,  0.0016])\n",
            "non-vectorized output (2nd vector):  tensor([ 0.0022,  0.0035,  0.0015,  ..., -0.0002,  0.0021,  0.0012])\n"
          ]
        }
      ]
    },
    {
      "cell_type": "code",
      "execution_count": 126,
      "metadata": {
        "colab": {
          "base_uri": "https://localhost:8080/"
        },
        "id": "dqWsBLuuLziL",
        "outputId": "05619083-3f2b-449a-f497-fe2121266f3b"
      },
      "outputs": [
        {
          "output_type": "stream",
          "name": "stdout",
          "text": [
            "tensor(5.2822e-09)\n",
            "tensor([-0.9037])\n",
            "tensor(0.0416, grad_fn=<DotBackward0>)\n",
            "tensor(0.0416, grad_fn=<DotBackward0>)\n",
            "tensor(0.0416, grad_fn=<DotBackward0>)\n",
            "tensor(0.0416, grad_fn=<DotBackward0>)\n",
            "tensor(0.0416, grad_fn=<DotBackward0>)\n"
          ]
        }
      ],
      "source": [
        "x_rfs = input_to_rfs_torch(x, A_fun, a_fun, xis, num_rfs, dim)\n",
        "w_rfs = input_to_rfs_torch(w, B_fun, b_fun, xis, num_rfs, dim)\n",
        "\n",
        "print(torch.dot(x_rfs, w_rfs))\n",
        "print(groundtruth_value) # not great\n",
        "\n",
        "net = mynetwork(w)\n",
        "# real stupid test\n",
        "for i in range(5):\n",
        "    l = net(x)\n",
        "    print(l)\n",
        "    l.backward() #quite slow"
      ]
    }
  ]
}